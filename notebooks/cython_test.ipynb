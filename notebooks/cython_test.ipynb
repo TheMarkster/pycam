{
 "cells": [
  {
   "cell_type": "code",
   "execution_count": 1,
   "id": "ab64cc80",
   "metadata": {},
   "outputs": [],
   "source": [
    "import pycam as geometry\n",
    "import numpy as np\n",
    "import numba as nb\n",
    "import ezdxf\n",
    "import matplotlib.pyplot as plt\n",
    "import pyperclip"
   ]
  },
  {
   "cell_type": "code",
   "execution_count": 2,
   "id": "720c86fa",
   "metadata": {},
   "outputs": [],
   "source": [
    "def format_fp(d, N=5):\n",
    "    \"\"\"Format a floating point number to N decimal places.\"\"\"\n",
    "    return f\"{d:.{N}f}\"\n",
    "\n",
    "def path_to_cpp(path: geometry.Path):\n",
    "    \"\"\"Convert a Path object to a compact array format for C++.\"\"\"\n",
    "    points = path.to_compact_array()\n",
    "\n",
    "    s = \"\\tpath *p = path::from_compact_array({\\n\"\n",
    "    for point in points:\n",
    "        s += f\"\\t\\tcompact_point({format_fp(point[0])}, {format_fp(point[1])}, {format_fp(point[2])}),\\n\"\n",
    "\n",
    "    s += \"\\t}, true);\\n\"\n",
    "    return s\n",
    "\n"
   ]
  },
  {
   "cell_type": "code",
   "execution_count": 3,
   "id": "b696f3bc",
   "metadata": {},
   "outputs": [],
   "source": [
    "import matplotlib.pyplot as plt\n",
    "\n",
    "def draw_line(ax, line: geometry.LineSegment, color='k'):\n",
    "    plt.plot([line.start.x, line.end.x], [line.start.y, line.end.y], color=color)\n",
    "\n",
    "def draw_arc(ax, arc: geometry.ArcSegment, color='k'):\n",
    "    # print(f\"Start angle: {arc.start_angle}, End angle: {arc.end_angle}, Center: {arc.center}\")\n",
    "    angle = np.linspace(arc.start_angle, arc.end_angle, 72)\n",
    "    x = arc.center.x + arc.radius * np.cos(angle)\n",
    "    y = arc.center.y + arc.radius * np.sin(angle)\n",
    "    ax.plot(x, y, color=color)\n",
    "\n",
    "def draw_segment(ax, segment: geometry.Segment, color='k'):\n",
    "    if isinstance(segment, geometry.LineSegment):\n",
    "        draw_line(ax, segment, color=color)\n",
    "    elif isinstance(segment, geometry.ArcSegment):\n",
    "        draw_arc(ax, segment, color=color)\n",
    "\n",
    "def draw_path(ax, path: geometry.Path):\n",
    "    if hasattr(path, '__iter__'):\n",
    "        for p in path:\n",
    "            draw_path(ax, p)\n",
    "    else:\n",
    "        if path.clockwise_winding():\n",
    "            color = 'r'\n",
    "        else:\n",
    "            color = 'b'\n",
    "        for segment in path.segments():\n",
    "            draw_segment(ax, segment, color=color)\n",
    "\n",
    "\n",
    "def load_dxf(filename) -> geometry.Path:\n",
    "    \"\"\"Load a DXF file and extract paths from LWPOLYLINE entities.\"\"\"\n",
    "    doc = ezdxf.readfile(filename)\n",
    "    msp = doc.modelspace()\n",
    "\n",
    "    paths = []\n",
    "    polylines = msp.query(\"LWPOLYLINE\")\n",
    "    for path in polylines:\n",
    "        points = np.array(path.get_points())\n",
    "        points = points[:, [0, 1, 4]].astype(np.float32)  # x, y, bulge\n",
    "        paths.append(geometry.Path.from_compact_array(points))\n",
    "\n",
    "    if len(paths) == 0:\n",
    "        return None\n",
    "    elif len(paths) > 1:\n",
    "        return paths\n",
    "    else:\n",
    "        return paths[0]"
   ]
  },
  {
   "cell_type": "code",
   "execution_count": 4,
   "id": "d919ac71",
   "metadata": {},
   "outputs": [
    {
     "ename": "",
     "evalue": "",
     "output_type": "error",
     "traceback": [
      "\u001b[1;31mThe Kernel crashed while executing code in the current cell or a previous cell. \n",
      "\u001b[1;31mPlease review the code in the cell(s) to identify a possible cause of the failure. \n",
      "\u001b[1;31mClick <a href='https://aka.ms/vscodeJupyterKernelCrash'>here</a> for more info. \n",
      "\u001b[1;31mView Jupyter <a href='command:jupyter.viewOutput'>log</a> for further details."
     ]
    }
   ],
   "source": [
    "path = load_dxf(\"dogbone_test.dxf\")\n",
    "path2 = path.offset(-1, cull=False)\n",
    "draw_path(plt.gca(), path2)\n",
    "plt.grid()\n",
    "\n",
    "inter = geometry.intersections(path2)\n",
    "\n",
    "# for i in inter:\n",
    "#     plt.plot(i['point'].x, i['point'].y, 'ro')\n",
    "\n",
    "# inter"
   ]
  },
  {
   "cell_type": "code",
   "execution_count": null,
   "id": "67644b1c",
   "metadata": {},
   "outputs": [
    {
     "name": "stdout",
     "output_type": "stream",
     "text": [
      "ArcSegment: Center((10.00, 40.00)), Radius(6), Start Angle(-0.585686), End Angle(0.785398), Start((15.00, 36.68)), End((14.24, 44.24)), Nhat Start((0.83, -0.55)), Nhat End((0.71, 0.71))\n",
      "LineSegment: Start((14.24, 44.24)), End((6.00, 52.49)), Nhat((0.71, 0.71)), Vhat((-0.71, 0.71))\n",
      "LineSegment: Start((6.00, 52.49)), End((6.00, 54.00)), Nhat((1.00, -0.00)), Vhat((0.00, 1.00))\n",
      "LineSegment: Start((6.00, 54.00)), End((24.00, 54.00)), Nhat((0.00, -1.00)), Vhat((1.00, 0.00))\n",
      "LineSegment: Start((24.00, 54.00)), End((24.00, 52.49)), Nhat((-1.00, -0.00)), Vhat((0.00, -1.00))\n",
      "LineSegment: Start((24.00, 52.49)), End((15.76, 44.24)), Nhat((-0.71, 0.71)), Vhat((-0.71, -0.71))\n",
      "ArcSegment: Center((20.00, 40.00)), Radius(6), Start Angle(2.35619), End Angle(3.72728), Start((15.76, 44.24)), End((15.00, 36.68)), Nhat Start((-0.71, 0.71)), Nhat End((-0.83, -0.55))\n",
      "\n",
      "ArcSegment: Center((20.00, 20.00)), Radius(6), Start Angle(-3.72728), End Angle(-2.35654), Start((15.00, 23.32)), End((15.76, 15.76)), Nhat Start((-0.83, 0.55)), Nhat End((-0.71, -0.71))\n",
      "LineSegment: Start((15.76, 15.76)), End((24.00, 7.51)), Nhat((-0.71, -0.71)), Vhat((0.71, -0.71))\n",
      "LineSegment: Start((24.00, 7.51)), End((24.00, 6.00)), Nhat((-1.00, -0.00)), Vhat((0.00, -1.00))\n",
      "LineSegment: Start((24.00, 6.00)), End((6.00, 6.00)), Nhat((0.00, 1.00)), Vhat((-1.00, 0.00))\n",
      "LineSegment: Start((6.00, 6.00)), End((6.00, 7.51)), Nhat((1.00, -0.00)), Vhat((0.00, 1.00))\n",
      "LineSegment: Start((6.00, 7.51)), End((14.24, 15.76)), Nhat((0.71, -0.71)), Vhat((0.71, 0.71))\n",
      "ArcSegment: Center((10.00, 20.00)), Radius(6), Start Angle(-0.785399), End Angle(0.585685), Start((14.24, 15.76)), End((15.00, 23.32)), Nhat Start((0.71, -0.71)), Nhat End((0.83, 0.55))\n",
      "\n"
     ]
    },
    {
     "data": {
      "image/png": "[encoded data removed]",
      "text/plain": [
       "<Figure size 640x480 with 1 Axes>"
      ]
     },
     "metadata": {},
     "output_type": "display_data"
    }
   ],
   "source": [
    "def offset(path, distance: float, arc: bool = True, cull: bool = True):\n",
    "    if hasattr(path, '__iter__'):\n",
    "        p = []\n",
    "        for subpath in path:\n",
    "            p.extend(offset(subpath, distance, arc, cull))\n",
    "        return p\n",
    "    else:\n",
    "        return path.offset(distance, arc=arc, cull=cull)\n",
    "\n",
    "path = load_dxf(\"dogbone_test.dxf\")\n",
    "\n",
    "# s = path_to_cpp(path)\n",
    "# pyperclip.copy(s)\n",
    "# print(s)\n",
    "\n",
    "def get_contour(path, distance: float, cull=True, N=50):\n",
    "    i = 0\n",
    "    all_paths = []\n",
    "    while path and i < N:\n",
    "        path = offset(path, distance, cull=cull)\n",
    "        i += 1\n",
    "        all_paths.append(path)\n",
    "    return all_paths\n",
    "    # draw_path(plt.gca(), path)\n",
    "\n",
    "path.clockwise_winding()\n",
    "N = 6\n",
    "test = get_contour(path, 1, cull=False, N=N)\n",
    "test2 = get_contour(path, 1, cull=True, N=N)\n",
    "test = test[-1]\n",
    "test2 = test2[-1]\n",
    "# test = offset(path, 6, cull=False)\n",
    "# test2 = offset(path, 6, cull=True)\n",
    "\n",
    "# test = path.offset(-15, cull=False)\n",
    "# test = test[-7]\n",
    "\n",
    "draw_path(plt.gca(), path)\n",
    "# draw_path(plt.gca(), test)\n",
    "draw_path(plt.gca(), test2)\n",
    "plt.axis('equal')\n",
    "test\n",
    "\n",
    "plt.xticks(np.arange(-40, 40, 5))\n",
    "plt.yticks(np.arange(0, 60, 5))\n",
    "plt.grid() \n",
    "for p in test2:\n",
    "    for seg in p.segments():\n",
    "        print(seg.c_to_string())\n",
    "    print()\n",
    "\n",
    "int = geometry.intersections(test2)\n",
    "for i in int:\n",
    "    plt.plot(i['point'].x, i['point'].y, 'ro')\n",
    "    print(i)"
   ]
  },
  {
   "cell_type": "code",
   "execution_count": null,
   "id": "3caa9190",
   "metadata": {},
   "outputs": [
    {
     "data": {
      "text/plain": [
       "np.float64(0.0572957890623832)"
      ]
     },
     "execution_count": 6,
     "metadata": {},
     "output_type": "execute_result"
    }
   ],
   "source": [
    "error = np.sin(.1/180*np.pi)\n",
    "np.rad2deg(np.asin(1e-3))\n"
   ]
  },
  {
   "cell_type": "code",
   "execution_count": null,
   "id": "f2dea918",
   "metadata": {},
   "outputs": [
    {
     "ename": "NameError",
     "evalue": "name 'i' is not defined",
     "output_type": "error",
     "traceback": [
      "\u001b[31m---------------------------------------------------------------------------\u001b[39m",
      "\u001b[31mNameError\u001b[39m                                 Traceback (most recent call last)",
      "\u001b[36mCell\u001b[39m\u001b[36m \u001b[39m\u001b[32mIn[7]\u001b[39m\u001b[32m, line 1\u001b[39m\n\u001b[32m----> \u001b[39m\u001b[32m1\u001b[39m \u001b[43mi\u001b[49m\n",
      "\u001b[31mNameError\u001b[39m: name 'i' is not defined"
     ]
    }
   ],
   "source": [
    "i"
   ]
  },
  {
   "cell_type": "code",
   "execution_count": null,
   "id": "046c6e40",
   "metadata": {},
   "outputs": [
    {
     "ename": "NameError",
     "evalue": "name 'total_offset' is not defined",
     "output_type": "error",
     "traceback": [
      "\u001b[31m---------------------------------------------------------------------------\u001b[39m",
      "\u001b[31mNameError\u001b[39m                                 Traceback (most recent call last)",
      "\u001b[36mCell\u001b[39m\u001b[36m \u001b[39m\u001b[32mIn[8]\u001b[39m\u001b[32m, line 1\u001b[39m\n\u001b[32m----> \u001b[39m\u001b[32m1\u001b[39m \u001b[38;5;28mprint\u001b[39m(\u001b[33mf\u001b[39m\u001b[33m\"\u001b[39m\u001b[33mTotal offset: \u001b[39m\u001b[38;5;132;01m{\u001b[39;00m\u001b[43mtotal_offset\u001b[49m\u001b[38;5;132;01m:\u001b[39;00m\u001b[33m.1f\u001b[39m\u001b[38;5;132;01m}\u001b[39;00m\u001b[33m\"\u001b[39m)\n\u001b[32m      2\u001b[39m \u001b[38;5;28;01mif\u001b[39;00m path:\n\u001b[32m      3\u001b[39m     all_paths.append(path)\n",
      "\u001b[31mNameError\u001b[39m: name 'total_offset' is not defined"
     ]
    }
   ],
   "source": [
    "print(f\"Total offset: {total_offset:.1f}\")\n",
    "if path:\n",
    "    all_paths.append(path)\n",
    "    path = offset(path, -5, cull=False)\n",
    "    total_offset += 5\n",
    "    print(path)\n",
    "else:\n",
    "    print(\"Done\")\n",
    "\n",
    "# s = path_to_cpp(path[0])\n",
    "# print(s)\n",
    "# pyperclip.copy(s)\n",
    "\n",
    "# loops = path[0].get_closed_loops()\n",
    "# %timeit offset(path, -4.5, cull=True)\n",
    "# # path = offset(path, -0.5, cull=True)\n",
    "# # path = path2\n",
    "# # path2 = offset(path, -2.5, cull=True)\n",
    "draw_path(plt.gca(), all_paths)\n",
    "plt.axis('equal')\n",
    "plt.grid()"
   ]
  }
 ],
 "metadata": {
  "kernelspec": {
   "display_name": "venv",
   "language": "python",
   "name": "python3"
  },
  "language_info": {
   "codemirror_mode": {
    "name": "ipython",
    "version": 3
   },
   "file_extension": ".py",
   "mimetype": "text/x-python",
   "name": "python",
   "nbconvert_exporter": "python",
   "pygments_lexer": "ipython3",
   "version": "3.12.3"
  }
 },
 "nbformat": 4,
 "nbformat_minor": 5
}
